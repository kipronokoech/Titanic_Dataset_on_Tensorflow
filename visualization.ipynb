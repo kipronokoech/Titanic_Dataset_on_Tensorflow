{
 "cells": [
  {
   "cell_type": "markdown",
   "metadata": {},
   "source": [
    "## Import necessary packages"
   ]
  },
  {
   "cell_type": "code",
   "execution_count": 2,
   "metadata": {},
   "outputs": [],
   "source": [
    "from __future__ import division,print_function\n",
    "\n",
    "import pandas as pd\n",
    "import matplotlib.pyplot as plt\n",
    "\n",
    "from IPython.display import clear_output\n",
    "\n",
    "import seaborn"
   ]
  },
  {
   "cell_type": "markdown",
   "metadata": {},
   "source": [
    "## Read data description"
   ]
  },
  {
   "cell_type": "code",
   "execution_count": 3,
   "metadata": {},
   "outputs": [
    {
     "name": "stdout",
     "output_type": "stream",
     "text": [
      "--------------------Data Dictionary--------------------\n",
      "\n",
      "Variable|\tDefinition|\tKey|\n",
      "\n",
      "-------------------------------------------------------\n",
      "\n",
      "survival| \tSurvival | \t0 = No, 1 = Yes |\n",
      "\n",
      "pclass |\tTicket class |\t1 = 1st, 2 = 2nd, 3 = 3rd|\n",
      "\n",
      "name|  Name of the passenger |-\n",
      "\n",
      "sex |\tSex |\t\n",
      "\n",
      "Age |\tAge in years |\t-\n",
      "\n",
      "sibsp| \t# of siblings / spouses aboard the Titanic |-\n",
      "\n",
      "parch |\t# of parents / children aboard the Titanic \t|-\n",
      "\n",
      "ticket| \tTicket number |\t-\n",
      "\n",
      "fare |\tPassenger fare \t| -\n",
      "\n",
      "cabin |\tCabin number |\t-\n",
      "\n",
      "embarked |\tPort of Embarkation |\tC = Cherbourg, Q = Queenstown, S = Southampton|\n",
      "\n",
      "\n",
      "\n",
      "\n",
      "\n",
      "-----------------Variable Notes-----------------------\n",
      "\n",
      "\n",
      "\n",
      "pclass: A proxy for socio-economic status (SES)\n",
      "\n",
      "1st = Upper\n",
      "\n",
      "2nd = Middle\n",
      "\n",
      "3rd = Lower\n",
      "\n",
      "\n",
      "\n",
      "age: Age is fractional if less than 1. If the age is estimated, it is in the form of xx.5\n",
      "\n",
      "\n",
      "\n",
      "sibsp: The dataset defines family relations in this way...\n",
      "\n",
      "Sibling = brother, sister, stepbrother, stepsister\n",
      "\n",
      "Spouse = husband, wife (mistresses and fiancés were ignored)\n",
      "\n",
      "\n",
      "\n",
      "parch: The dataset defines family relations in this way...\n",
      "\n",
      "Parent = mother, father\n",
      "\n",
      "Child = daughter, son, stepdaughter, stepson\n",
      "\n",
      "Some children travelled only with a nanny, therefore parch=0 for them.\n",
      "\n"
     ]
    }
   ],
   "source": [
    "with open(\"data_description.txt\",\"r\") as fp:\n",
    "    for line in fp:\n",
    "        print(line)"
   ]
  },
  {
   "cell_type": "markdown",
   "metadata": {},
   "source": [
    "## Loading the training data using pandas"
   ]
  },
  {
   "cell_type": "code",
   "execution_count": 4,
   "metadata": {},
   "outputs": [
    {
     "name": "stdout",
     "output_type": "stream",
     "text": [
      "(891, 10)\n"
     ]
    }
   ],
   "source": [
    "df = pd.read_csv(\"./data/titanic.csv\")\n",
    "print(df.shape) #891 data points for training"
   ]
  },
  {
   "cell_type": "markdown",
   "metadata": {},
   "source": [
    "## Exploratory data analysis of train data"
   ]
  },
  {
   "cell_type": "code",
   "execution_count": 6,
   "metadata": {},
   "outputs": [
    {
     "data": {
      "text/plain": [
       "survived\n",
       "0    549\n",
       "1    342\n",
       "Name: survived, dtype: int64"
      ]
     },
     "execution_count": 6,
     "metadata": {},
     "output_type": "execute_result"
    }
   ],
   "source": [
    "df.groupby([\"survived\"])[\"survived\"].count()"
   ]
  },
  {
   "cell_type": "markdown",
   "metadata": {},
   "source": [
    "**Remark:** Of 891 people 549(61.6%) perished and 342(38.4%) survived"
   ]
  },
  {
   "cell_type": "code",
   "execution_count": 7,
   "metadata": {},
   "outputs": [
    {
     "data": {
      "image/png": "[encoded data removed]",
      "text/plain": [
       "<Figure size 432x288 with 1 Axes>"
      ]
     },
     "metadata": {
      "needs_background": "light"
     },
     "output_type": "display_data"
    }
   ],
   "source": [
    "#Survival distribution\n",
    "\n",
    "plt.title(\"Survival distribution (1: surived, 0: otherwise)\")\n",
    "seaborn.countplot(\"survived\",data=df,palette=\"Set1\")\n",
    "plt.savefig(\"./output/survival.png\")\n",
    "plt.show()"
   ]
  },
  {
   "cell_type": "code",
   "execution_count": 9,
   "metadata": {},
   "outputs": [
    {
     "data": {
      "text/plain": [
       "survived              0\n",
       "sex                   0\n",
       "age                   0\n",
       "n_siblings_spouses    0\n",
       "parch                 0\n",
       "fare                  0\n",
       "class                 0\n",
       "deck                  0\n",
       "embark_town           0\n",
       "alone                 0\n",
       "dtype: int64"
      ]
     },
     "execution_count": 9,
     "metadata": {},
     "output_type": "execute_result"
    }
   ],
   "source": [
    "#missing values per every column - none of the columns containings missing columns at this point\n",
    "df.isnull().sum()"
   ]
  },
  {
   "cell_type": "code",
   "execution_count": 12,
   "metadata": {},
   "outputs": [
    {
     "data": {
      "image/png": "[encoded data removed]",
      "text/plain": [
       "<Figure size 432x288 with 1 Axes>"
      ]
     },
     "metadata": {
      "needs_background": "light"
     },
     "output_type": "display_data"
    }
   ],
   "source": [
    "#Age distribution\n",
    "plt.title(\"Age Distription\")\n",
    "plt.xlabel(\"Age\")\n",
    "plt.ylabel(\"# of passangers\")\n",
    "df.age.hist(bins=10)\n",
    "plt.savefig(\"./output/age.png\")"
   ]
  },
  {
   "cell_type": "markdown",
   "metadata": {},
   "source": [
    "**Remark:** Majority of the passengers falls in 18-32 age group as per the histogram above."
   ]
  },
  {
   "cell_type": "code",
   "execution_count": 13,
   "metadata": {},
   "outputs": [
    {
     "data": {
      "text/plain": [
       "survived  sex   \n",
       "0         female     81\n",
       "          male      468\n",
       "1         female    233\n",
       "          male      109\n",
       "Name: survived, dtype: int64"
      ]
     },
     "execution_count": 13,
     "metadata": {},
     "output_type": "execute_result"
    }
   ],
   "source": [
    "# Survival counts by gender\n",
    "df.groupby([\"survived\",\"sex\"])[\"survived\"].count()"
   ]
  },
  {
   "cell_type": "markdown",
   "metadata": {},
   "source": [
    "**Remarks:**\n",
    " - For women, 81 perished and 233 survived (74.2% rate of survival in the group).\n",
    " - For men, 468 died while 109 made out alive (18.3% survival rate in the group).\n",
    " - Of all those who perished,468(85.2%) were men and 81 were women(14.7%).\n",
    " - Conclusion, more men perished than women and more women survived than men."
   ]
  },
  {
   "cell_type": "code",
   "execution_count": 14,
   "metadata": {},
   "outputs": [
    {
     "data": {
      "text/plain": [
       "Text(0, 0.5, 'Survival%)')"
      ]
     },
     "execution_count": 14,
     "metadata": {},
     "output_type": "execute_result"
    },
    {
     "data": {
      "image/png": "[encoded data removed]",
      "text/plain": [
       "<Figure size 432x288 with 1 Axes>"
      ]
     },
     "metadata": {
      "needs_background": "light"
     },
     "output_type": "display_data"
    }
   ],
   "source": [
    "#survival rate by gender (survived)\n",
    "(df.groupby(\"sex\").survived.mean()\n",
    " .plot(kind=\"bar\",title=\"Survival rate by Gender\").set_ylabel(\"Survival%)\"))"
   ]
  },
  {
   "cell_type": "code",
   "execution_count": 16,
   "metadata": {},
   "outputs": [
    {
     "data": {
      "image/png": "[encoded data removed]",
      "text/plain": [
       "<Figure size 432x288 with 1 Axes>"
      ]
     },
     "metadata": {
      "needs_background": "light"
     },
     "output_type": "display_data"
    }
   ],
   "source": [
    "#survival rate by gender for all\n",
    "(df[[\"sex\",\"survived\"]].groupby([\"sex\"]).mean().plot.bar(title=\"Survival rate by Gender\")\n",
    ".set_ylabel(\"Survival(%)\"))\n",
    "seaborn.countplot(\"sex\",hue=\"survived\",data=df,)\n",
    "plt.legend(labels=[\"_\",\"Survived\",\"Died\"])\n",
    "plt.savefig(\"./output/survival_gender.png\")\n",
    "clear_output()"
   ]
  },
  {
   "cell_type": "code",
   "execution_count": 18,
   "metadata": {},
   "outputs": [
    {
     "data": {
      "image/png": "[encoded data removed]",
      "text/plain": [
       "<Figure size 432x288 with 1 Axes>"
      ]
     },
     "metadata": {
      "needs_background": "light"
     },
     "output_type": "display_data"
    }
   ],
   "source": [
    "#survival rate by Ticket class\n",
    "(df[[\"class\",\"survived\"]].groupby([\"class\"]).mean()\n",
    " .plot.bar(title=\"Survival rate by Ticket Class\").set_ylabel(\"Survival(%)\"))\n",
    "seaborn.countplot(\"class\",hue=\"survived\",data=df,palette=\"Set1\")\n",
    "plt.legend(labels=[\"_\",\"Died\",\"Survived\"])\n",
    "plt.savefig(\"./output/survival_class.png\")\n",
    "clear_output()"
   ]
  },
  {
   "cell_type": "markdown",
   "metadata": {},
   "source": [
    "**Remark:** It seems most deaths came from third class."
   ]
  },
  {
   "cell_type": "code",
   "execution_count": 19,
   "metadata": {},
   "outputs": [
    {
     "data": {
      "text/plain": [
       "Text(0, 0.5, 'Survival(%)')"
      ]
     },
     "execution_count": 19,
     "metadata": {},
     "output_type": "execute_result"
    },
    {
     "data": {
      "image/png": "[encoded data removed]",
      "text/plain": [
       "<Figure size 432x288 with 1 Axes>"
      ]
     },
     "metadata": {
      "needs_background": "light"
     },
     "output_type": "display_data"
    }
   ],
   "source": [
    "(df[[\"class\",\"survived\"]].groupby([\"class\"]).mean()\n",
    " .plot.bar(title=\"Survival rate by Ticket Class\").set_ylabel(\"Survival(%)\"))"
   ]
  },
  {
   "cell_type": "code",
   "execution_count": 21,
   "metadata": {},
   "outputs": [
    {
     "data": {
      "image/png": "[encoded data removed]",
      "text/plain": [
       "<Figure size 430.5x360 with 1 Axes>"
      ]
     },
     "metadata": {
      "needs_background": "light"
     },
     "output_type": "display_data"
    }
   ],
   "source": [
    "#survival rate by Ticket class\n",
    "\n",
    "seaborn.factorplot(\"class\",\"survived\",hue=\"sex\",data=df)\n",
    "\n",
    "plt.title(\"Factor plot: Class,Gender and Survival rate\")\n",
    "plt.savefig(\"./output/survival_class_factorplot.png\")\n",
    "clear_output()"
   ]
  },
  {
   "cell_type": "markdown",
   "metadata": {},
   "source": []
  },
  {
   "cell_type": "code",
   "execution_count": null,
   "metadata": {},
   "outputs": [],
   "source": []
  },
  {
   "cell_type": "code",
   "execution_count": null,
   "metadata": {},
   "outputs": [],
   "source": []
  },
  {
   "cell_type": "code",
   "execution_count": null,
   "metadata": {},
   "outputs": [],
   "source": []
  },
  {
   "cell_type": "code",
   "execution_count": null,
   "metadata": {},
   "outputs": [],
   "source": []
  },
  {
   "cell_type": "code",
   "execution_count": null,
   "metadata": {},
   "outputs": [],
   "source": []
  },
  {
   "cell_type": "code",
   "execution_count": null,
   "metadata": {},
   "outputs": [],
   "source": []
  },
  {
   "cell_type": "code",
   "execution_count": null,
   "metadata": {},
   "outputs": [],
   "source": []
  },
  {
   "cell_type": "code",
   "execution_count": null,
   "metadata": {},
   "outputs": [],
   "source": []
  },
  {
   "cell_type": "code",
   "execution_count": null,
   "metadata": {},
   "outputs": [],
   "source": []
  },
  {
   "cell_type": "code",
   "execution_count": null,
   "metadata": {},
   "outputs": [],
   "source": []
  }
 ],
 "metadata": {
  "kernelspec": {
   "display_name": "titanicvenv",
   "language": "python",
   "name": "titanicvenv"
  },
  "language_info": {
   "codemirror_mode": {
    "name": "ipython",
    "version": 3
   },
   "file_extension": ".py",
   "mimetype": "text/x-python",
   "name": "python",
   "nbconvert_exporter": "python",
   "pygments_lexer": "ipython3",
   "version": "3.7.3"
  }
 },
 "nbformat": 4,
 "nbformat_minor": 2
}
