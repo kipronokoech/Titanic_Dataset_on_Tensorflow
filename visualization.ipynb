{
 "cells": [
  {
   "cell_type": "markdown",
   "metadata": {},
   "source": [
    "## Import necessary packages"
   ]
  },
  {
   "cell_type": "code",
   "execution_count": 147,
   "metadata": {},
   "outputs": [],
   "source": [
    "from __future__ import division,print_function\n",
    "\n",
    "import pandas as pd\n",
    "import matplotlib.pyplot as plt\n",
    "\n",
    "from IPython.display import clear_output\n",
    "\n",
    "import seaborn"
   ]
  },
  {
   "cell_type": "markdown",
   "metadata": {},
   "source": [
    "## Read data description"
   ]
  },
  {
   "cell_type": "code",
   "execution_count": 148,
   "metadata": {},
   "outputs": [
    {
     "name": "stdout",
     "output_type": "stream",
     "text": [
      "--------------------Data Dictionary--------------------\n",
      "\n",
      "Variable|\tDefinition|\tKey|\n",
      "\n",
      "-------------------------------------------------------\n",
      "\n",
      "survival| \tSurvival | \t0 = No, 1 = Yes |\n",
      "\n",
      "pclass |\tTicket class |\t1 = 1st, 2 = 2nd, 3 = 3rd|\n",
      "\n",
      "name|  Name of the passenger |-\n",
      "\n",
      "sex |\tSex |\t\n",
      "\n",
      "Age |\tAge in years |\t-\n",
      "\n",
      "sibsp| \t# of siblings / spouses aboard the Titanic |-\n",
      "\n",
      "parch |\t# of parents / children aboard the Titanic \t|-\n",
      "\n",
      "ticket| \tTicket number |\t-\n",
      "\n",
      "fare |\tPassenger fare \t| -\n",
      "\n",
      "cabin |\tCabin number |\t-\n",
      "\n",
      "embarked |\tPort of Embarkation |\tC = Cherbourg, Q = Queenstown, S = Southampton|\n",
      "\n",
      "\n",
      "\n",
      "\n",
      "\n",
      "-----------------Variable Notes-----------------------\n",
      "\n",
      "\n",
      "\n",
      "pclass: A proxy for socio-economic status (SES)\n",
      "\n",
      "1st = Upper\n",
      "\n",
      "2nd = Middle\n",
      "\n",
      "3rd = Lower\n",
      "\n",
      "\n",
      "\n",
      "age: Age is fractional if less than 1. If the age is estimated, it is in the form of xx.5\n",
      "\n",
      "\n",
      "\n",
      "sibsp: The dataset defines family relations in this way...\n",
      "\n",
      "Sibling = brother, sister, stepbrother, stepsister\n",
      "\n",
      "Spouse = husband, wife (mistresses and fiancés were ignored)\n",
      "\n",
      "\n",
      "\n",
      "parch: The dataset defines family relations in this way...\n",
      "\n",
      "Parent = mother, father\n",
      "\n",
      "Child = daughter, son, stepdaughter, stepson\n",
      "\n",
      "Some children travelled only with a nanny, therefore parch=0 for them.\n",
      "\n"
     ]
    }
   ],
   "source": [
    "with open(\"data_description.txt\",\"r\") as fp:\n",
    "    for line in fp:\n",
    "        print(line)"
   ]
  },
  {
   "cell_type": "markdown",
   "metadata": {},
   "source": [
    "## Loading the training data using pandas"
   ]
  },
  {
   "cell_type": "code",
   "execution_count": 160,
   "metadata": {},
   "outputs": [
    {
     "name": "stdout",
     "output_type": "stream",
     "text": [
      "(891, 12)\n"
     ]
    }
   ],
   "source": [
    "train = pd.read_csv(\"./data/train.csv\")\n",
    "print(train.shape) #891 data points for training"
   ]
  },
  {
   "cell_type": "markdown",
   "metadata": {},
   "source": [
    "## Exploratory data analysis of train data"
   ]
  },
  {
   "cell_type": "code",
   "execution_count": 150,
   "metadata": {},
   "outputs": [
    {
     "data": {
      "text/plain": [
       "Survived\n",
       "0    549\n",
       "1    342\n",
       "Name: Survived, dtype: int64"
      ]
     },
     "execution_count": 150,
     "metadata": {},
     "output_type": "execute_result"
    }
   ],
   "source": [
    "train.groupby([\"Survived\"])[\"Survived\"].count()"
   ]
  },
  {
   "cell_type": "markdown",
   "metadata": {},
   "source": [
    "**Remark:** Of 891 people 549(61.6%) perished and 342(38.4%) survived"
   ]
  },
  {
   "cell_type": "code",
   "execution_count": 151,
   "metadata": {},
   "outputs": [
    {
     "data": {
      "image/png": "[encoded data removed]",
      "text/plain": [
       "<Figure size 432x288 with 1 Axes>"
      ]
     },
     "metadata": {
      "needs_background": "light"
     },
     "output_type": "display_data"
    }
   ],
   "source": [
    "#Survival distribution\n",
    "\n",
    "plt.title(\"Survival distribution (1: surived, 0: otherwise)\")\n",
    "seaborn.countplot(\"Survived\",data=train,palette=\"Set1\")\n",
    "plt.savefig(\"./output/survival.png\")\n",
    "plt.show()"
   ]
  },
  {
   "cell_type": "code",
   "execution_count": 152,
   "metadata": {},
   "outputs": [
    {
     "data": {
      "text/plain": [
       "PassengerId      0\n",
       "Survived         0\n",
       "Pclass           0\n",
       "Name             0\n",
       "Sex              0\n",
       "Age            177\n",
       "SibSp            0\n",
       "Parch            0\n",
       "Ticket           0\n",
       "Fare             0\n",
       "Cabin          687\n",
       "Embarked         2\n",
       "dtype: int64"
      ]
     },
     "execution_count": 152,
     "metadata": {},
     "output_type": "execute_result"
    }
   ],
   "source": [
    "#missing values per every column\n",
    "train.isnull().sum()"
   ]
  },
  {
   "cell_type": "markdown",
   "metadata": {},
   "source": [
    "**Remark:** Age column, Cabin and Embarked contains missing values"
   ]
  },
  {
   "cell_type": "code",
   "execution_count": 153,
   "metadata": {},
   "outputs": [
    {
     "data": {
      "image/png": "[encoded data removed]",
      "text/plain": [
       "<Figure size 432x288 with 1 Axes>"
      ]
     },
     "metadata": {
      "needs_background": "light"
     },
     "output_type": "display_data"
    }
   ],
   "source": [
    "#Age distribution\n",
    "plt.title(\"Age Distription\")\n",
    "plt.xlabel(\"Age\")\n",
    "plt.ylabel(\"# of passangers\")\n",
    "train.Age.hist(bins=10)\n",
    "plt.savefig(\"./output/age.png\")"
   ]
  },
  {
   "cell_type": "markdown",
   "metadata": {},
   "source": [
    "**Remark:** Majority of the passengers falls in 18-40 age group as per the histogram above."
   ]
  },
  {
   "cell_type": "code",
   "execution_count": 154,
   "metadata": {},
   "outputs": [
    {
     "data": {
      "text/plain": [
       "Survived  Sex   \n",
       "0         female     81\n",
       "          male      468\n",
       "1         female    233\n",
       "          male      109\n",
       "Name: Survived, dtype: int64"
      ]
     },
     "execution_count": 154,
     "metadata": {},
     "output_type": "execute_result"
    }
   ],
   "source": [
    "# Survival counts by gender\n",
    "train.groupby([\"Survived\",\"Sex\"])[\"Survived\"].count()"
   ]
  },
  {
   "cell_type": "markdown",
   "metadata": {},
   "source": [
    "**Remarks:**\n",
    " - For women, 81 perished and 233 survived (74.2% rate of survival in the group).\n",
    " - For men, 468 died while 109 made out alive (18.3% survival rate in the group).\n",
    " - Of all those who perished,468(85.2%) were men and 81 were women(14.7%).\n",
    " - Conclusion, more men perished than women and more women survived than men."
   ]
  },
  {
   "cell_type": "code",
   "execution_count": 155,
   "metadata": {},
   "outputs": [
    {
     "data": {
      "text/plain": [
       "Text(0, 0.5, 'Survival%)')"
      ]
     },
     "execution_count": 155,
     "metadata": {},
     "output_type": "execute_result"
    },
    {
     "data": {
      "image/png": "[encoded data removed]",
      "text/plain": [
       "<Figure size 432x288 with 1 Axes>"
      ]
     },
     "metadata": {
      "needs_background": "light"
     },
     "output_type": "display_data"
    }
   ],
   "source": [
    "#survival rate by gender (survived)\n",
    "(train.groupby(\"Sex\").Survived.mean()\n",
    " .plot(kind=\"bar\",title=\"Survival rate by Gender\").set_ylabel(\"Survival%)\"))"
   ]
  },
  {
   "cell_type": "code",
   "execution_count": 156,
   "metadata": {},
   "outputs": [
    {
     "data": {
      "image/png": "[encoded data removed]",
      "text/plain": [
       "<Figure size 432x288 with 1 Axes>"
      ]
     },
     "metadata": {
      "needs_background": "light"
     },
     "output_type": "display_data"
    }
   ],
   "source": [
    "#survival rate by gender for all\n",
    "(train[[\"Sex\",\"Survived\"]].groupby([\"Sex\"]).mean().plot.bar(title=\"Survival rate by Gender\")\n",
    ".set_ylabel(\"Survival(%)\"))\n",
    "seaborn.countplot(\"Sex\",hue=\"Survived\",data=train,)\n",
    "plt.legend(labels=[\"_\",\"Survived\",\"Died\"])\n",
    "plt.savefig(\"./output/survival_gender.png\")\n",
    "clear_output()"
   ]
  },
  {
   "cell_type": "code",
   "execution_count": 157,
   "metadata": {},
   "outputs": [
    {
     "data": {
      "image/png": "[encoded data removed]",
      "text/plain": [
       "<Figure size 432x288 with 1 Axes>"
      ]
     },
     "metadata": {
      "needs_background": "light"
     },
     "output_type": "display_data"
    }
   ],
   "source": [
    "#survival rate by Ticket class\n",
    "(train[[\"Pclass\",\"Survived\"]].groupby([\"Pclass\"]).mean()\n",
    " .plot.bar(title=\"Survival rate by Ticket Class\").set_ylabel(\"Survival(%)\"))\n",
    "seaborn.countplot(\"Pclass\",hue=\"Survived\",data=train,palette=\"Set1\")\n",
    "plt.legend(labels=[\"_\",\"Died\",\"Survived\"])\n",
    "plt.savefig(\"./output/survival_class.png\")\n",
    "clear_output()"
   ]
  },
  {
   "cell_type": "markdown",
   "metadata": {},
   "source": [
    "**Remark:** It seems most deaths came from third class."
   ]
  },
  {
   "cell_type": "code",
   "execution_count": 158,
   "metadata": {},
   "outputs": [
    {
     "data": {
      "text/plain": [
       "Text(0, 0.5, 'Survival(%)')"
      ]
     },
     "execution_count": 158,
     "metadata": {},
     "output_type": "execute_result"
    },
    {
     "data": {
      "image/png": "[encoded data removed]",
      "text/plain": [
       "<Figure size 432x288 with 1 Axes>"
      ]
     },
     "metadata": {
      "needs_background": "light"
     },
     "output_type": "display_data"
    }
   ],
   "source": [
    "(train[[\"Pclass\",\"Survived\"]].groupby([\"Pclass\"]).mean()\n",
    " .plot.bar(title=\"Survival rate by Ticket Class\").set_ylabel(\"Survival(%)\"))"
   ]
  },
  {
   "cell_type": "code",
   "execution_count": 159,
   "metadata": {},
   "outputs": [
    {
     "data": {
      "image/png": "[encoded data removed]",
      "text/plain": [
       "<Figure size 430.5x360 with 1 Axes>"
      ]
     },
     "metadata": {
      "needs_background": "light"
     },
     "output_type": "display_data"
    }
   ],
   "source": [
    "#survival rate by Ticket class\n",
    "\n",
    "seaborn.factorplot(\"Pclass\",\"Survived\",hue=\"Sex\",data=train)\n",
    "\n",
    "plt.title(\"Factor plot: Class,Gender and Survival rate\")\n",
    "plt.savefig(\"./output/survival_class_factorplot.png\")\n",
    "clear_output()"
   ]
  },
  {
   "cell_type": "markdown",
   "metadata": {},
   "source": []
  },
  {
   "cell_type": "code",
   "execution_count": null,
   "metadata": {},
   "outputs": [],
   "source": []
  },
  {
   "cell_type": "code",
   "execution_count": null,
   "metadata": {},
   "outputs": [],
   "source": []
  },
  {
   "cell_type": "code",
   "execution_count": null,
   "metadata": {},
   "outputs": [],
   "source": []
  },
  {
   "cell_type": "code",
   "execution_count": null,
   "metadata": {},
   "outputs": [],
   "source": []
  },
  {
   "cell_type": "code",
   "execution_count": null,
   "metadata": {},
   "outputs": [],
   "source": []
  },
  {
   "cell_type": "code",
   "execution_count": null,
   "metadata": {},
   "outputs": [],
   "source": []
  },
  {
   "cell_type": "code",
   "execution_count": null,
   "metadata": {},
   "outputs": [],
   "source": []
  },
  {
   "cell_type": "code",
   "execution_count": null,
   "metadata": {},
   "outputs": [],
   "source": []
  }
 ],
 "metadata": {
  "kernelspec": {
   "display_name": "titanicvenv",
   "language": "python",
   "name": "titanicvenv"
  },
  "language_info": {
   "codemirror_mode": {
    "name": "ipython",
    "version": 3
   },
   "file_extension": ".py",
   "mimetype": "text/x-python",
   "name": "python",
   "nbconvert_exporter": "python",
   "pygments_lexer": "ipython3",
   "version": "3.7.3"
  }
 },
 "nbformat": 4,
 "nbformat_minor": 2
}
